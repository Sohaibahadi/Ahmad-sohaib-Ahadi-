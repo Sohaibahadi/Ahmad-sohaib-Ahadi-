{
 "cells": [
  {
   "cell_type": "code",
   "execution_count": 17,
   "metadata": {},
   "outputs": [
    {
     "data": {
      "text/plain": "(0.0, 30.0, -4.0, 4.0)"
     },
     "execution_count": 17,
     "metadata": {},
     "output_type": "execute_result"
    },
    {
     "data": {
      "image/png": "[encoded data removed]",
      "text/plain": "<Figure size 640x480 with 1 Axes>"
     },
     "metadata": {},
     "output_type": "display_data"
    }
   ],
   "source": [
    "import numpy as np\r\n",
    "import matplotlib.pyplot as plt\r\n",
    "v=np.array([3,2])\r\n",
    "plt.plot([1,v[0]],[2,v[1]])\r\n",
    "\r\n",
    "v=np.array([1,2])\r\n",
    "plt.plot([1,v[0]],[1,v[1]])\r\n",
    "\r\n",
    "v=np.array([3,1])\r\n",
    "plt.plot([1,v[0]],[1,v[1]])\r\n",
    "\r\n",
    "v=np.array([3,0])\r\n",
    "plt.plot([1,v[0]],[0,v[1]])\r\n",
    "\r\n",
    "v=np.array([3,2])\r\n",
    "plt.plot([1,v[0]],[2,v[1]])\r\n",
    "\r\n",
    "v=np.array([3,1])\r\n",
    "plt.plot([3,v[0]],[0,v[1]])\r\n",
    "\r\n",
    "v=np.array([5,2])\r\n",
    "plt.plot([5,v[0]],[0,v[1]])\r\n",
    "\r\n",
    "v=np.array([10,2])\r\n",
    "plt.plot([5,v[0]],[2,v[1]])\r\n",
    "\r\n",
    "\r\n",
    "\r\n",
    "\r\n",
    "v=np.array([10,0])\r\n",
    "plt.plot([10,v[0]],[2,v[1]])\r\n",
    "\r\n",
    "v=np.array([10,0])\r\n",
    "plt.plot([5,v[0]],[0,v[1]])\r\n",
    "\r\n",
    "\r\n",
    "v=np.array([10,0])\r\n",
    "plt.plot([5,v[0]],[0,v[1]])\r\n",
    "\r\n",
    "v=np.array([12,2])\r\n",
    "plt.plot([12,v[0]],[0,v[1]])\r\n",
    "\r\n",
    "v=np.array([15,2])\r\n",
    "plt.plot([15,v[0]],[0,v[1]])\r\n",
    "\r\n",
    "\r\n",
    "v=np.array([15,1])\r\n",
    "plt.plot([12,v[0]],[1,v[1]])\r\n",
    "\r\n",
    "v=np.array([19,2])\r\n",
    "plt.plot([17,v[0]],[0,v[1]])\r\n",
    "\r\n",
    "v=np.array([21,0])\r\n",
    "plt.plot([19,v[0]],[2,v[1]])\r\n",
    "\r\n",
    "v=np.array([20,1])\r\n",
    "plt.plot([18,v[0]],[1,v[1]])\r\n",
    "\r\n",
    "\r\n",
    "\r\n",
    "v=np.array([24,2])\r\n",
    "plt.plot([24,v[0]],[0,v[1]])\r\n",
    "\r\n",
    "v=np.array([26,2])\r\n",
    "plt.plot([26,v[0]],[0,v[1]])\r\n",
    "\r\n",
    "v=np.array([29,2])\r\n",
    "plt.plot([29,v[0]],[1,v[1]])\r\n",
    "\r\n",
    "v=np.array([29,1])\r\n",
    "plt.plot([26,v[0]],[1,v[1]])\r\n",
    "\r\n",
    "v=np.array([29,2])\r\n",
    "plt.plot([26,v[0]],[2,v[1]])\r\n",
    "\r\n",
    "v=np.array([29,1])\r\n",
    "plt.plot([29,v[0]],[0,v[1]])\r\n",
    "\r\n",
    "v=np.array([29,0])\r\n",
    "plt.plot([26,v[0]],[0,v[1]])\r\n",
    "\r\n",
    "\r\n",
    "plt.axis([0,30,-4,4])\r\n",
    "\r\n"
   ]
  }
 ],
 "metadata": {
  "kernelspec": {
   "display_name": "Python 3.11.1 64-bit",
   "name": "python3111jvsc74a57bd0873350741c85482d1786e8c0ae9d77c37c7fece764fa8e085cd1138f5020f176"
  },
  "language_info": {
   "codemirror_mode": {
    "name": "ipython",
    "version": 3
   },
   "file_extension": ".py",
   "mimetype": "text/x-python",
   "name": "python",
   "nbconvert_exporter": "python",
   "pygments_lexer": "ipython3",
   "version": "3.11.1"
  },
  "metadata": {
   "interpreter": {
    "hash": "873350741c85482d1786e8c0ae9d77c37c7fece764fa8e085cd1138f5020f176"
   }
  },
  "orig_nbformat": 2
 },
 "nbformat": 4,
 "nbformat_minor": 2
}